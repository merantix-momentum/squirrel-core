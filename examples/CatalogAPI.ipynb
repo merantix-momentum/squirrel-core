{
 "cells": [
  {
   "cell_type": "markdown",
   "id": "69f9aa77",
   "metadata": {},
   "source": [
    "[![Open In Colab](https://colab.research.google.com/assets/colab-badge.svg)](https://colab.research.google.com/github/merantix/mxlabs-datasets/blob/main/examples/Squirrel_Tutorial_Plugins.ipynb)"
   ]
  },
  {
   "cell_type": "markdown",
   "id": "a669ba1a",
   "metadata": {},
   "source": [
    "# Catalog API"
   ]
  },
  {
   "cell_type": "markdown",
   "id": "c7d150b8",
   "metadata": {},
   "source": [
    "## Install Squirrel and Squirrel Datasets"
   ]
  },
  {
   "cell_type": "markdown",
   "id": "bc94460b",
   "metadata": {},
   "source": [
    "Uncomment and run the following lines if you are working on Google Colab:"
   ]
  },
  {
   "cell_type": "code",
   "execution_count": null,
   "id": "a47e82d3",
   "metadata": {
    "pycharm": {
     "name": "#%%\n"
    }
   },
   "outputs": [],
   "source": [
    "# from google.colab import auth\n",
    "\n",
    "# auth.authenticate_user()"
   ]
  },
  {
   "cell_type": "markdown",
   "id": "1244b595",
   "metadata": {},
   "source": [
    "Uncomment and run the following lines if you have not installed squirrel and squirrel-datasets already:"
   ]
  },
  {
   "cell_type": "code",
   "execution_count": null,
   "id": "023bebfb",
   "metadata": {},
   "outputs": [],
   "source": [
    "# !pip install keyring keyrings.google-artifactregistry-auth\n",
    "# !pip install squirrel-core squirrel-datasets --extra-index=https://europe-west1-python.pkg.dev/mx-labs-devops/labs-pypi-registry/simple/ --ignore-requires-python"
   ]
  },
  {
   "cell_type": "markdown",
   "id": "8bdbd344",
   "metadata": {},
   "source": [
    "For this tutorial, we also need matplotlib"
   ]
  },
  {
   "cell_type": "code",
   "execution_count": null,
   "id": "a1a2f2e3",
   "metadata": {},
   "outputs": [],
   "source": [
    "!pip install matplotlib"
   ]
  },
  {
   "cell_type": "markdown",
   "id": "0d597f95",
   "metadata": {},
   "source": [
    "## Squirrel-datasets Catalog"
   ]
  },
  {
   "cell_type": "markdown",
   "id": "fea94059",
   "metadata": {},
   "source": [
    "Squirrel-datasets comes with built-in data sources that you can use.\n",
    "Let's check them out:"
   ]
  },
  {
   "cell_type": "code",
   "execution_count": null,
   "id": "0f67fb90",
   "metadata": {},
   "outputs": [],
   "source": [
    "from squirrel.catalog import Catalog\n",
    "\n",
    "\n",
    "# loads a catalog that collects datasets from installed plug-ins such as squirrel-datasets\n",
    "cat = Catalog.from_plugins()\n",
    "print(list(cat.sources))"
   ]
  },
  {
   "cell_type": "markdown",
   "id": "88fa8463",
   "metadata": {},
   "source": [
    "That is quite a lot, right?\n",
    "\n",
    "Catalog is a collection of sources.\n",
    "It takes care of maintaining different sources and keeps track of all versions of the same source.\n",
    "\n",
    "To get more information about a Source, you can simply index the Catalog:"
   ]
  },
  {
   "cell_type": "code",
   "execution_count": null,
   "id": "6667b634",
   "metadata": {},
   "outputs": [],
   "source": [
    "cat[\"cifar10\"]"
   ]
  },
  {
   "cell_type": "markdown",
   "id": "b2ac0e4d",
   "metadata": {},
   "source": [
    "Catalog returned us the latest version of CIFAR-10 it stores.\n",
    "Note that:\n",
    "- a driver called `\"torchvision\"` will be used to read from this source\n",
    "- the driver will be passed the keyword arguments `name=\"CIFAR10\"` and `download=True`\n",
    "- no metadata was provided for the dataset\n",
    "- the latest version stored in the catalog is `v2`"
   ]
  },
  {
   "cell_type": "markdown",
   "id": "70d2d692",
   "metadata": {},
   "source": [
    "As mentioned earlier, it can be the case that we have multiple versions for the same data source.\n",
    "For example, we can keep the raw dataset as version 1 and also store the cleansed version of it as version 2.\n",
    "\n",
    "To see all versions of a source, we can use `Catalog.get_versions()`."
   ]
  },
  {
   "cell_type": "code",
   "execution_count": null,
   "id": "52f0eea2",
   "metadata": {},
   "outputs": [],
   "source": [
    "print(len(cat[\"cifar10\"]))\n",
    "cat[\"cifar10\"][1], cat[\"cifar10\"][2]"
   ]
  },
  {
   "cell_type": "markdown",
   "id": "c285dddd",
   "metadata": {},
   "source": [
    "You can see that to load CIFAR-10, we have two options: one using the HuggingfaceDriver and one using the TorchvisionDriver.\n",
    "\n",
    "Let's load data from both. To do that, we will instantiate the drivers with the help of the Catalog, and then load some samples using the `iterstream` API (if you haven't already, have a look at the `Iterstream Tutorial`).\n",
    "\n",
    "Note that different drivers expect different keyword arguments:"
   ]
  },
  {
   "cell_type": "code",
   "execution_count": null,
   "id": "9ee73b6c",
   "metadata": {},
   "outputs": [],
   "source": [
    "driver_hg = cat[\"cifar10\"][1]  # load version 1 (Huggingface)\n",
    "driver_tv = cat[\"cifar10\"][2]  # load version 2 (Torchvision)\n",
    "\n",
    "N = 3  # just for demonstration, we dont need a lot of samples\n",
    "samples_hg = driver_hg.get_driver().get_iter(split=\"train\").take(N).collect()\n",
    "samples_tv = driver_tv.get_driver().get_iter().take(N).collect()"
   ]
  },
  {
   "cell_type": "markdown",
   "id": "d07eb545",
   "metadata": {},
   "source": [
    "The format of the returned samples also depends on the driver:"
   ]
  },
  {
   "cell_type": "code",
   "execution_count": null,
   "id": "47a871f1",
   "metadata": {},
   "outputs": [],
   "source": [
    "(\n",
    "    samples_hg[0],  # a dictionary with keys \"img\" and \"label\",\n",
    "    samples_tv[0],  # a tuple of (image, label id)\n",
    ")"
   ]
  },
  {
   "cell_type": "markdown",
   "id": "da511b70",
   "metadata": {},
   "source": [
    "That's it! Here is what is returned from the drivers:"
   ]
  },
  {
   "cell_type": "code",
   "execution_count": null,
   "id": "09f42f0b",
   "metadata": {},
   "outputs": [],
   "source": [
    "import matplotlib.pyplot as plt\n",
    "\n",
    "fig = plt.figure()\n",
    "subfigs = fig.subfigures(nrows=2, ncols=1)\n",
    "subfigs[0].suptitle(\"Huggingface\")\n",
    "subfigs[1].suptitle(\"Torchvision\")\n",
    "\n",
    "# plot huggingface\n",
    "axs = subfigs[0].subplots(nrows=1, ncols=N)\n",
    "for col, ax in enumerate(axs):\n",
    "    sample = samples_hg[col]\n",
    "    ax.imshow(sample[\"img\"])\n",
    "    label = f\"Class: {sample['label']}\"\n",
    "    ax.set_title(label)\n",
    "\n",
    "# plot torchvision\n",
    "axs = subfigs[1].subplots(nrows=1, ncols=N)\n",
    "for col, ax in enumerate(axs):\n",
    "    sample = samples_tv[col]\n",
    "    ax.imshow(sample[0])\n",
    "    label = f\"Class: {sample[1]}\"\n",
    "    ax.set_title(label)"
   ]
  },
  {
   "cell_type": "markdown",
   "id": "4a1c8555",
   "metadata": {},
   "source": [
    "## End\n",
    "You are up to speed!\n",
    "\n",
    "If you are willing to learn more, check out the `Plugins Tutorial` to see how you can implement and register a new plugin, which will extend the sources provided by squirrel-datasets.\n",
    "You can also refer to the API reference to discover more information such as implementation details."
   ]
  }
 ],
 "metadata": {
  "interpreter": {
   "hash": "2229ac2c6ff131eacf535cbbb0b84a3b0b0fe7ee2170063f98e2c3e16c82e257"
  },
  "kernelspec": {
   "display_name": "Python 3 (ipykernel)",
   "language": "python",
   "name": "python3"
  },
  "language_info": {
   "codemirror_mode": {
    "name": "ipython",
    "version": 3
   },
   "file_extension": ".py",
   "mimetype": "text/x-python",
   "name": "python",
   "nbconvert_exporter": "python",
   "pygments_lexer": "ipython3",
   "version": "3.8.12"
  }
 },
 "nbformat": 4,
 "nbformat_minor": 5
}
