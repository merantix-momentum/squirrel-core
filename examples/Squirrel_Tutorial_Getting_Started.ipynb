{
 "cells": [
  {
   "cell_type": "markdown",
   "metadata": {},
   "source": [
    "[![Open In Colab](https://colab.research.google.com/assets/colab-badge.svg)](https://colab.research.google.com/github/merantix/mxlabs-datasets/blob/main/examples/Squirrel_Tutorial_Getting_Started.ipynb)\n"
   ]
  },
  {
   "cell_type": "markdown",
   "metadata": {
    "id": "l_HQflv065Oh"
   },
   "source": [
    "# Install Squirrel and Squirrel Datasets"
   ]
  },
  {
   "cell_type": "code",
   "execution_count": null,
   "metadata": {
    "id": "eN4eI8-L64v_",
    "tags": [
     "skip-execution"
    ]
   },
   "outputs": [],
   "source": [
    "!pip install keyring keyrings.google-artifactregistry-auth # TODO\n",
    "from google.colab import auth\n",
    "\n",
    "auth.authenticate_user()"
   ]
  },
  {
   "cell_type": "code",
   "execution_count": null,
   "metadata": {
    "id": "CUD3Nh2H696j",
    "tags": [
     "skip-execution"
    ]
   },
   "outputs": [],
   "source": [
    "!pip install squirrel-core squirrel-datasets-core --extra-index=https://europe-west1-python.pkg.dev/mx-labs-devops/labs-pypi-registry/simple/ --ignore-requires-python --upgrade\n",
    "# TODO"
   ]
  },
  {
   "cell_type": "code",
   "execution_count": null,
   "metadata": {},
   "outputs": [],
   "source": [
    "!pip install matplotlib"
   ]
  },
  {
   "cell_type": "markdown",
   "metadata": {
    "id": "pWJIo6t27IBQ"
   },
   "source": [
    "# Introduction to Iterstreams"
   ]
  },
  {
   "cell_type": "code",
   "execution_count": null,
   "metadata": {
    "id": "kkcv9JGM7GOb"
   },
   "outputs": [],
   "source": [
    "from squirrel.iterstream import IterableSource\n",
    "\n",
    "# create iterstream from iterable and iterate through it. Display it's throughput using tqdm.\n",
    "IterableSource(range(1_000_000)).tqdm().join()"
   ]
  },
  {
   "cell_type": "markdown",
   "metadata": {
    "id": "v5a-tOAE7NvA"
   },
   "source": [
    "# Load Sample from Imagenet"
   ]
  },
  {
   "cell_type": "code",
   "execution_count": null,
   "metadata": {
    "id": "y4IIgrUe7CgJ"
   },
   "outputs": [],
   "source": [
    "from squirrel.catalog import Catalog\n",
    "\n",
    "# init catalog with in-built datasets\n",
    "cat = Catalog.from_plugins()"
   ]
  },
  {
   "cell_type": "code",
   "execution_count": null,
   "metadata": {
    "id": "DJNVj8Qh7TTq"
   },
   "outputs": [],
   "source": [
    "# access training images from imagenet dataset\n",
    "it = cat[\"imagenet\"].get_driver().get_iter(split=\"train\")"
   ]
  },
  {
   "cell_type": "code",
   "execution_count": null,
   "metadata": {
    "id": "HlmxNMMs7e9C"
   },
   "outputs": [],
   "source": [
    "# retrieve single sample from imagenet\n",
    "sample = it.take(1).collect()[0]"
   ]
  },
  {
   "cell_type": "code",
   "execution_count": null,
   "metadata": {
    "id": "YqceUBWF7gBC"
   },
   "outputs": [],
   "source": [
    "import matplotlib.pyplot as plt\n",
    "\n",
    "# plot sample and label\n",
    "plt.title(f'Class: {sample[\"classification_label_name\"]}')\n",
    "plt.imshow(sample[\"image\"])"
   ]
  }
 ],
 "metadata": {
  "colab": {
   "collapsed_sections": [],
   "name": "Squirrel Tutorial - Getting Started.ipynb",
   "provenance": []
  },
  "kernelspec": {
   "display_name": "Python 3",
   "language": "python",
   "name": "python3"
  },
  "language_info": {
   "codemirror_mode": {
    "name": "ipython",
    "version": 3
   },
   "file_extension": ".py",
   "mimetype": "text/x-python",
   "name": "python",
   "nbconvert_exporter": "python",
   "pygments_lexer": "ipython3",
   "version": "3.8.12"
  }
 },
 "nbformat": 4,
 "nbformat_minor": 4
}