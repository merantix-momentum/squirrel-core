{
 "cells": [
  {
   "cell_type": "markdown",
   "id": "69f9aa77",
   "metadata": {},
   "source": [
    "[![Open In Colab](https://colab.research.google.com/assets/colab-badge.svg)](https://colab.research.google.com/github/merantix/mxlabs-datasets/blob/main/examples/Squirrel_Tutorial_Plugins.ipynb)"
   ]
  },
  {
   "cell_type": "markdown",
   "id": "c7d150b8",
   "metadata": {},
   "source": [
    "# Install Squirrel and Squirrel Datasets"
   ]
  },
  {
   "cell_type": "code",
   "execution_count": null,
   "id": "73597a24",
   "metadata": {
    "pycharm": {
     "name": "#%%\n"
    }
   },
   "outputs": [],
   "source": [
    "# Please uncomment and run the following cells if needed"
   ]
  },
  {
   "cell_type": "code",
   "execution_count": null,
   "id": "5bc7678d",
   "metadata": {
    "pycharm": {
     "name": "#%%\n"
    }
   },
   "outputs": [],
   "source": [
    "# !pip install keyring keyrings.google-artifactregistry-auth\n",
    "# from google.colab import auth\n",
    "# auth.authenticate_user()"
   ]
  },
  {
   "cell_type": "code",
   "execution_count": null,
   "id": "023bebfb",
   "metadata": {},
   "outputs": [],
   "source": [
    "# !pip install squirrel-core squirrel-datasets --extra-index=https://europe-west1-python.pkg.dev/mx-labs-devops/labs-pypi-registry/simple/ --ignore-requires-python --upgrade"
   ]
  },
  {
   "cell_type": "code",
   "execution_count": null,
   "id": "fbf3ae18",
   "metadata": {},
   "outputs": [],
   "source": [
    "# !pip install networkx --ignore-requires-python --upgrade"
   ]
  },
  {
   "cell_type": "markdown",
   "id": "da1701f5",
   "metadata": {},
   "source": [
    "# The Squirrel Plugin System\n",
    "\n",
    "Squirrel uses the amazing [pluggy](https://pluggy.readthedocs.io/en/latest/) library to provide extensibility.\n",
    "Currently, you can add custom Drivers to support new data formats and Sources which are added to the default Catalog.\n",
    "There are multiple ways of adding plugins.\n",
    "See [here](https://pluggy.readthedocs.io/en/stable/#the-plugin-registry) to explore the various possibilities.\n",
    "In this tutorial you will learn how to write custom Drivers and Sources and add them to Squirrel. Let's go!"
   ]
  },
  {
   "cell_type": "markdown",
   "id": "0d597f95",
   "metadata": {},
   "source": [
    "# Catalog\n",
    "Calatog is a dictionary-like data structure that allows you to add and remove `Source`.\n",
    "A `Source` object has an attribute `driver_name`, which should be the same as the attribute of a driver class (will be explained below).\n",
    "Let's see an example:"
   ]
  },
  {
   "cell_type": "code",
   "execution_count": null,
   "id": "bedd10c3",
   "metadata": {},
   "outputs": [],
   "source": [
    "from squirrel.catalog import Catalog, Source\n",
    "\n",
    "driver_name = \"my_driver_name\"\n",
    "identifier = \"my_identifier\"\n",
    "version = 1\n",
    "\n",
    "cat = Catalog()"
   ]
  },
  {
   "cell_type": "code",
   "execution_count": null,
   "id": "edd3aaf4",
   "metadata": {},
   "outputs": [],
   "source": [
    "cat[identifier, version] = Source(driver_name=driver_name, driver_kwargs={}, metadata={})"
   ]
  },
  {
   "cell_type": "code",
   "execution_count": null,
   "id": "afd2cce3",
   "metadata": {},
   "outputs": [],
   "source": [
    "cat[identifier, version]"
   ]
  },
  {
   "cell_type": "markdown",
   "id": "4e7039b8",
   "metadata": {},
   "source": [
    "Each entry in the catalog is versioned, and all versions are kept unless explicitly deleted.\n",
    "The information in one entry in the catalog is all we need to instantiate a driver and start training.\n",
    "But first, there should be a `Driver` associated with this entry.\n",
    "Squirrel contains several useful drivers, and also allows you to write your own driver and register it using `pluggy`.\n",
    "Your driver should inherit from `squirrel.driver.Driver` or one of its subclasses such as `IterDriver`, `MapDriver`, etc. "
   ]
  },
  {
   "cell_type": "code",
   "execution_count": null,
   "id": "2237b3b2",
   "metadata": {},
   "outputs": [],
   "source": [
    "from squirrel.driver import Driver\n",
    "from squirrel.iterstream import IterableSource\n",
    "\n",
    "\n",
    "class MyAwesomeDriver(Driver):\n",
    "\n",
    "    name = \"my_driver_name\"\n",
    "\n",
    "    def __init__(self, catalog=None):\n",
    "        super().__init__(catalog)\n",
    "\n",
    "    def get_iter(self):\n",
    "        return IterableSource(range(10))"
   ]
  },
  {
   "cell_type": "markdown",
   "id": "14326fd2",
   "metadata": {},
   "source": [
    "At this point, we have implemented our driver, and also declared it in the catalog.\n",
    "To connect the two, we can simply register this driver using squirrel `register_driver` function."
   ]
  },
  {
   "cell_type": "code",
   "execution_count": null,
   "id": "6b692494",
   "metadata": {},
   "outputs": [],
   "source": [
    "from squirrel.framework.plugins.plugin_manager import register_driver\n",
    "\n",
    "register_driver(MyAwesomeDriver)"
   ]
  },
  {
   "cell_type": "code",
   "execution_count": null,
   "id": "c86c085b",
   "metadata": {},
   "outputs": [],
   "source": [
    "cat[identifier, version].get_driver().get_iter().collect()"
   ]
  },
  {
   "cell_type": "markdown",
   "id": "6a004f31",
   "metadata": {},
   "source": [
    "Note that the class attribute `name` in the driver must be present, and must be the same as `driver_name` of the `Source`. "
   ]
  },
  {
   "cell_type": "markdown",
   "id": "b1940c21",
   "metadata": {},
   "source": [
    "# Custom Drivers\n",
    "\n",
    "Let's write our own driver by implementing a custom driver for graph data.\n",
    "We have a huge graph which is stored in a distributed manner, and a microservice that access this storage engine and give us random walks on this graph.\n",
    "The `GraphService` below with `sleep()` simulates this.\n",
    "Our graph service randomly select a node in the network and returns a list of `num` random walks with length of `length`, starting from this node."
   ]
  },
  {
   "cell_type": "code",
   "execution_count": null,
   "id": "b7cdf4e6",
   "metadata": {},
   "outputs": [],
   "source": [
    "import random\n",
    "from time import sleep\n",
    "import networkx as nx\n",
    "\n",
    "\n",
    "class GraphService:\n",
    "    \"\"\"A class that sample from an example graph\"\"\"\n",
    "\n",
    "    def __init__(self, size):\n",
    "        self.g = nx.random_graphs.complete_graph(size)\n",
    "\n",
    "    def multi_walks(self, length, num):\n",
    "        sleep(0.1)\n",
    "        node = random.choice(list(self.g.nodes()))\n",
    "        return [self.random_walk(node, length) for _ in range(num)]\n",
    "\n",
    "    def random_walk(self, node, length):\n",
    "        walk = [node]\n",
    "        n = node\n",
    "        for _ in range(length - 1):\n",
    "            nei = list(self.g.neighbors(n))\n",
    "            predecessor = random.choice(nei)\n",
    "            walk.append(predecessor)\n",
    "            n = predecessor\n",
    "        return walk"
   ]
  },
  {
   "cell_type": "markdown",
   "id": "15d53fad",
   "metadata": {},
   "source": [
    "## Our custom driver\n",
    "\n",
    "`GraphDriver` inherited from `IterDriver`. "
   ]
  },
  {
   "cell_type": "code",
   "execution_count": null,
   "id": "2a469226",
   "metadata": {},
   "outputs": [],
   "source": [
    "from squirrel.driver import IterDriver\n",
    "\n",
    "\n",
    "class GraphDriver(IterDriver):\n",
    "\n",
    "    name = \"graph_driver\"\n",
    "\n",
    "    def __init__(self, catalog=None, size=10):\n",
    "        super().__init__()\n",
    "        self.graph_service = GraphService(size)\n",
    "\n",
    "    def get_iter(self, num_samples, length, num):\n",
    "        return IterableSource(range(num_samples)).map(lambda i: self.graph_service.multi_walks(length, num))"
   ]
  },
  {
   "cell_type": "code",
   "execution_count": null,
   "id": "ddd821d7",
   "metadata": {},
   "outputs": [],
   "source": [
    "driver = GraphDriver(10)\n",
    "\n",
    "for i in driver.get_iter(1, 2, 3):\n",
    "    print(i)"
   ]
  },
  {
   "cell_type": "code",
   "execution_count": null,
   "id": "0db168e4",
   "metadata": {},
   "outputs": [],
   "source": [
    "cat[\"gd\"] = Source(driver_name=\"graph_driver\")\n",
    "register_driver(GraphDriver)"
   ]
  },
  {
   "cell_type": "code",
   "execution_count": null,
   "id": "037f7f7a",
   "metadata": {},
   "outputs": [],
   "source": [
    "cat[\"gd\"]"
   ]
  },
  {
   "cell_type": "markdown",
   "id": "2001e26a",
   "metadata": {},
   "source": [
    "Note that in this case we did not specify a version.\n",
    "Squirrel automatically assigns `version==1` if the source does not exist in the catalog.\n",
    "We can now start using this new driver via the catalog api. "
   ]
  },
  {
   "cell_type": "code",
   "execution_count": null,
   "id": "b2b40cda",
   "metadata": {},
   "outputs": [],
   "source": [
    "cat[\"gd\"].get_driver().get_iter(1, 2, 3).collect()"
   ]
  },
  {
   "cell_type": "markdown",
   "id": "bdec24c5",
   "metadata": {},
   "source": [
    "# How to share Catalogs, Drivers, and Sources\n",
    "\n",
    "We suggest to share you Drivers and Sources depending on the scope with different approaches:\n",
    "\n",
    "\n",
    "# Share with outside collaborators\n",
    "\n",
    "Publish your Drivers and Sources using [entry points](https://pluggy.readthedocs.io/en/stable/#loading-setuptools-entry-points) in pluggy.\n",
    "The squirrel-datasets package is our reference implementation.\n",
    "You can see all available drivers with `squirrel.framework.plugins.plugin_manager.list_driver_names()`.\n",
    "\n",
    "\n",
    "# Share within your project\n",
    "\n",
    "Use the Python API to define your Catalog in your package and register Driver using the ```squirrel.framework.plugins.plugin_manager``` module.\n",
    "\n",
    "# Automatic pipelines\n",
    "\n",
    "For CI4ML pipelines, Squirrel offers sharing Catalogs as YAML files.\n",
    "Have a look at ```squirrel.catalog.Catalog.to_file()``` and ```squirrel.catalog.Catalog.from_dirs()``` to get started. "
   ]
  },
  {
   "cell_type": "markdown",
   "id": "b9e740e4",
   "metadata": {},
   "source": [
    "# Improve performance\n",
    "\n",
    "All you need for over one order of magnitude of improvement in this example is replacing `map` with `async_map` in the `get_iter` method.\n",
    "Under the hood, squirrel uses multithreading to parallelize the IO-bound operation of this mock `GraphService`.\n",
    "This is always useful when interfacing with remote data sources such as `Object Store`, `Database`, `HTTP endpoint`, etc."
   ]
  },
  {
   "cell_type": "code",
   "execution_count": null,
   "id": "b7f531f1",
   "metadata": {},
   "outputs": [],
   "source": [
    "class BetterGraphDriver(IterDriver):\n",
    "\n",
    "    name = \"better_graph_driver\"\n",
    "\n",
    "    def __init__(self, catalog=None, size=10):\n",
    "        super().__init__()\n",
    "        self.graph_service = GraphService(size)\n",
    "\n",
    "    def get_iter(self, num_samples, length, num):\n",
    "        return IterableSource(range(num_samples)).async_map(\n",
    "            lambda i: self.graph_service.multi_walks(length, num), buffer=1000\n",
    "        )"
   ]
  },
  {
   "cell_type": "code",
   "execution_count": null,
   "id": "35a2050f",
   "metadata": {},
   "outputs": [],
   "source": [
    "gd = GraphDriver(100)\n",
    "bgd = BetterGraphDriver(100)"
   ]
  },
  {
   "cell_type": "code",
   "execution_count": null,
   "id": "b6ff1d2f",
   "metadata": {},
   "outputs": [],
   "source": [
    "%%timeit\n",
    "\n",
    "for i in gd.get_iter(10 * 3, 10, 10):\n",
    "    pass"
   ]
  },
  {
   "cell_type": "code",
   "execution_count": null,
   "id": "9aebdd36",
   "metadata": {},
   "outputs": [],
   "source": [
    "%%timeit\n",
    "\n",
    "for i in bgd.get_iter(10 * 3, 10, 10):\n",
    "    pass"
   ]
  }
 ],
 "metadata": {
  "interpreter": {
   "hash": "2229ac2c6ff131eacf535cbbb0b84a3b0b0fe7ee2170063f98e2c3e16c82e257"
  },
  "kernelspec": {
   "display_name": "Python 3 (ipykernel)",
   "language": "python",
   "name": "python3"
  },
  "language_info": {
   "codemirror_mode": {
    "name": "ipython",
    "version": 3
   },
   "file_extension": ".py",
   "mimetype": "text/x-python",
   "name": "python",
   "nbconvert_exporter": "python",
   "pygments_lexer": "ipython3",
   "version": "3.8.12"
  }
 },
 "nbformat": 4,
 "nbformat_minor": 5
}
